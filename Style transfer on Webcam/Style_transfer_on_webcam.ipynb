{
  "nbformat": 4,
  "nbformat_minor": 0,
  "metadata": {
    "colab": {
      "provenance": []
    },
    "kernelspec": {
      "name": "python3",
      "display_name": "Python 3"
    },
    "language_info": {
      "name": "python"
    }
  },
  "cells": [
    {
      "cell_type": "code",
      "execution_count": 1,
      "metadata": {
        "id": "YvnIFjdvquD8"
      },
      "outputs": [],
      "source": [
        "import matplotlib.pyplot as plt\n",
        "import tensorflow as tf\n",
        "import cv2\n",
        "import numpy as np\n",
        "content_image = None"
      ]
    },
    {
      "cell_type": "code",
      "source": [
        "STYLE_IMAGE_NAME = 'IMAGE_5' #@param ['IMAGE_1', 'IMAGE_2', 'IMAGE_3', 'IMAGE_4', 'IMAGE_5', 'IMAGE_6', 'IMAGE_7', 'IMAGE_6', 'IMAGE_8', 'IMAGE_9', 'IMAGE_10', 'IMAGE_11', 'IMAGE_12', 'IMAGE_13', 'IMAGE_14']\n",
        "\n",
        "corresponding_url = {\n",
        "  'IMAGE_1':'https://upload.wikimedia.org/wikipedia/commons/0/0a/The_Great_Wave_off_Kanagawa.jpg',\n",
        "  'IMAGE_2':'https://upload.wikimedia.org/wikipedia/commons/b/b4/Vassily_Kandinsky%2C_1913_-_Composition_7.jpg',\n",
        "  'IMAGE_3':'https://upload.wikimedia.org/wikipedia/commons/6/68/Pillars_of_creation_2014_HST_WFC3-UVIS_full-res_denoised.jpg',\n",
        "  'IMAGE_4':'https://upload.wikimedia.org/wikipedia/commons/thumb/e/ea/Van_Gogh_-_Starry_Night_-_Google_Art_Project.jpg/1024px-Van_Gogh_-_Starry_Night_-_Google_Art_Project.jpg',\n",
        "  'IMAGE_5':'https://upload.wikimedia.org/wikipedia/commons/b/b7/JMW_Turner_-_Nantes_from_the_Ile_Feydeau.jpg',\n",
        "  'IMAGE_6':'https://upload.wikimedia.org/wikipedia/commons/c/c5/Edvard_Munch%2C_1893%2C_The_Scream%2C_oil%2C_tempera_and_pastel_on_cardboard%2C_91_x_73_cm%2C_National_Gallery_of_Norway.jpg',\n",
        "  'IMAGE_7':'https://upload.wikimedia.org/wikipedia/en/4/4c/Les_Demoiselles_d%27Avignon.jpg',\n",
        "  'IMAGE_8':'https://upload.wikimedia.org/wikipedia/en/3/3c/Pablo_Picasso%2C_1911-12%2C_Violon_%28Violin%29%2C_oil_on_canvas%2C_Kr%C3%B6ller-M%C3%BCller_Museum%2C_Otterlo%2C_Netherlands.jpg',\n",
        "  'IMAGE_9':'https://upload.wikimedia.org/wikipedia/en/7/7f/Pablo_Picasso%2C_1911%2C_Still_Life_with_a_Bottle_of_Rum%2C_oil_on_canvas%2C_61.3_x_50.5_cm%2C_Metropolitan_Museum_of_Art%2C_New_York.jpg',\n",
        "  'IMAGE_10':'https://upload.wikimedia.org/wikipedia/commons/3/36/Large_bonfire.jpg',\n",
        "  'IMAGE_11':'https://upload.wikimedia.org/wikipedia/commons/0/0d/Derkovits_Gyula_Woman_head_1922.jpg',\n",
        "  'IMAGE_12':'https://upload.wikimedia.org/wikipedia/commons/8/8e/Untitled_%28Still_life%29_%281913%29_-_Amadeo_Souza-Cardoso_%281887-1918%29_%2817385824283%29.jpg',\n",
        "  'IMAGE_13':'https://upload.wikimedia.org/wikipedia/commons/3/37/Derkovits_Gyula_Talig%C3%A1s_1920.jpg',\n",
        "  'IMAGE_14':'https://upload.wikimedia.org/wikipedia/commons/7/7d/Amadeo_de_Souza-Cardoso%2C_1915_-_Landscape_with_black_figure.jpg'\n",
        "}\n",
        "\n",
        "style_image_path = tf.keras.utils.get_file(STYLE_IMAGE_NAME + \".jpg\", corresponding_url[STYLE_IMAGE_NAME])"
      ],
      "metadata": {
        "id": "AuLwKZR6qwUw"
      },
      "execution_count": null,
      "outputs": []
    },
    {
      "cell_type": "code",
      "source": [
        "def load_content_img(image):\n",
        "  img = tf.convert_to_tensor(image)\n",
        "  img = tf.image.convert_image_dtype(img, tf.float32)\n",
        "  print(image.shape)\n",
        "  img = img[tf.newaxis, :]\n",
        "  return img  "
      ],
      "metadata": {
        "id": "IFDT8B6_rteK"
      },
      "execution_count": 3,
      "outputs": []
    },
    {
      "cell_type": "code",
      "source": [
        "def load_style_img(image):\n",
        "  img = tf.io.read_file(image)\n",
        "  img = tf.io.decode_image(img, channels=3)\n",
        "  img = tf.image.convert_image_dtype(img, tf.float32)\n",
        "  img = img[tf.newaxis, :]\n",
        "  return img"
      ],
      "metadata": {
        "id": "9UpEpNW0q1MQ"
      },
      "execution_count": 4,
      "outputs": []
    },
    {
      "cell_type": "code",
      "source": [
        "def preprocess_image(image, target_dim):\n",
        "  print(image.shape) # (1, 543, 966, 3)\n",
        "  shape = tf.cast(tf.shape(image)[1:-1], tf.float32)\n",
        "  print(shape)\n",
        "  short_dim = min(shape)\n",
        "  scale = target_dim / short_dim\n",
        "  print(scale)\n",
        "  new_shape = tf.cast(shape * scale, tf.int32)\n",
        "  print(new_shape)\n",
        "  image = tf.image.resize(image, new_shape)\n",
        "  print(image.shape)\n",
        "  image = tf.image.resize_with_crop_or_pad(image, target_dim, target_dim)\n",
        "  print(image.shape)\n",
        "  return image\n",
        "\n",
        "# (1, 543, 966, 3)\n",
        "# tf.Tensor([543. 966.], shape=(2,), dtype=float32)\n",
        "# tf.Tensor(0.70718235, shape=(), dtype=float32)\n",
        "# tf.Tensor([384 683], shape=(2,), dtype=int32)\n",
        "# (1, 384, 683, 3)\n",
        "# (1, 384, 384, 3)  "
      ],
      "metadata": {
        "id": "EPzj5aksq1OJ"
      },
      "execution_count": 5,
      "outputs": []
    },
    {
      "cell_type": "code",
      "source": [
        "def imshow(image, title=None):\n",
        "  if len(image.shape) > 3:\n",
        "    image = tf.squeeze(image, axis=0)\n",
        "\n",
        "  plt.imshow(image)\n",
        "  if title:\n",
        "    plt.title(title)"
      ],
      "metadata": {
        "id": "azJ3HwIeryJC"
      },
      "execution_count": 6,
      "outputs": []
    },
    {
      "cell_type": "code",
      "source": [
        "def run_style_predict(preprocessed_image):\n",
        "  # Load the model.\n",
        "  interpreter = tf.lite.Interpreter(model_path=style_predict_path)\n",
        "\n",
        "  # Set model input.\n",
        "  interpreter.allocate_tensors()\n",
        "  input_details = interpreter.get_input_details()\n",
        "  interpreter.set_tensor(input_details[0][\"index\"], preprocessed_image)\n",
        "\n",
        "  # Calculate style bottleneck.\n",
        "  interpreter.invoke()\n",
        "  style_bottleneck = interpreter.tensor(\n",
        "      interpreter.get_output_details()[0][\"index\"]\n",
        "      )()\n",
        "\n",
        "  return style_bottleneck"
      ],
      "metadata": {
        "id": "C0jI-q6wr1Nb"
      },
      "execution_count": 7,
      "outputs": []
    },
    {
      "cell_type": "code",
      "source": [
        "def run_style_transform(style_bottleneck, preprocessed_content_image):\n",
        "  interpreter = tf.lite.Interpreter(model_path=style_transform_path)\n",
        "  input_details = interpreter.get_input_details() # Provide metadata such as name, shape, datatype etc\n",
        "  interpreter.allocate_tensors()\n",
        "\n",
        "  interpreter.set_tensor(input_details[0][\"index\"], preprocessed_content_image)\n",
        "  interpreter.set_tensor(input_details[1][\"index\"], style_bottleneck)\n",
        "  interpreter.invoke()\n",
        "\n",
        "  stylized_image = interpreter.tensor(\n",
        "      interpreter.get_output_details()[0][\"index\"]\n",
        "      )()\n",
        "\n",
        "  return stylized_image"
      ],
      "metadata": {
        "id": "k97bVFmEr3NM"
      },
      "execution_count": 8,
      "outputs": []
    },
    {
      "cell_type": "code",
      "source": [
        "print('Downloading the model files...')\n",
        "style_predict_path = tf.keras.utils.get_file('style_predict.tflite', 'https://tfhub.dev/google/lite-model/magenta/arbitrary-image-stylization-v1-256/int8/prediction/1?lite-format=tflite')\n",
        "style_transform_path = tf.keras.utils.get_file('style_transform.tflite', 'https://tfhub.dev/google/lite-model/magenta/arbitrary-image-stylization-v1-256/int8/transfer/1?lite-format=tflite')\n",
        "print('Model files downloaded...')"
      ],
      "metadata": {
        "id": "jEvGOPWHvn98"
      },
      "execution_count": null,
      "outputs": []
    },
    {
      "cell_type": "code",
      "source": [
        "cnt=0\n",
        "style_image = load_style_img(style_image_path)\n",
        "preprocessed_style_image = preprocess_image(style_image, 256)\n",
        "style_bottleneck = run_style_predict(preprocessed_style_image)"
      ],
      "metadata": {
        "colab": {
          "base_uri": "https://localhost:8080/"
        },
        "id": "PAo_dA4gvFJp",
        "outputId": "1ad1df72-60e7-46a8-d8c3-0bd2446b4e7f"
      },
      "execution_count": 20,
      "outputs": [
        {
          "output_type": "stream",
          "name": "stdout",
          "text": [
            "(1, 613, 900, 3)\n",
            "tf.Tensor([613. 900.], shape=(2,), dtype=float32)\n",
            "tf.Tensor(0.41761827, shape=(), dtype=float32)\n",
            "tf.Tensor([256 375], shape=(2,), dtype=int32)\n",
            "(1, 256, 375, 3)\n",
            "(1, 256, 256, 3)\n"
          ]
        }
      ]
    },
    {
      "cell_type": "code",
      "source": [
        "print('Preprocessing the style image...')\n",
        "print('Style image shape:', preprocessed_style_image.shape)"
      ],
      "metadata": {
        "id": "Vod9P1Ncr8Yr",
        "colab": {
          "base_uri": "https://localhost:8080/"
        },
        "outputId": "491056bb-a176-42c9-8f1b-e4e49699d7ef"
      },
      "execution_count": 21,
      "outputs": [
        {
          "output_type": "stream",
          "name": "stdout",
          "text": [
            "Preprocessing the style image...\n",
            "Style image shape: (1, 256, 256, 3)\n"
          ]
        }
      ]
    },
    {
      "cell_type": "code",
      "source": [
        "plt.figure(figsize=(10, 10))\n",
        "imshow(preprocessed_style_image, 'Style Image')"
      ],
      "metadata": {
        "id": "DvzdaAuzr-J9"
      },
      "execution_count": null,
      "outputs": []
    },
    {
      "cell_type": "code",
      "source": [
        "content_blending_ratio = 0.1 #@param {type:\"slider\", min:0, max:1, step:0.1}"
      ],
      "metadata": {
        "id": "5ytESR9kv8XB"
      },
      "execution_count": null,
      "outputs": []
    },
    {
      "cell_type": "code",
      "source": [
        "cap = cv2.VideoCapture(0)\n",
        "dim = (384, 384)\n",
        "writer = cv2.VideoWriter('captureWebcam.mp4', cv2.VideoWriter_fourcc(*'VIDX'),25, dim)"
      ],
      "metadata": {
        "id": "PbSkWtpjvfSd"
      },
      "execution_count": null,
      "outputs": []
    },
    {
      "cell_type": "code",
      "source": [
        "while True:\n",
        "    print(cnt)\n",
        "    cnt+=1\n",
        "    ret, frame = cap.read()\n",
        "    if not ret:\n",
        "        break\n",
        "\n",
        "\n",
        "#     content_image = np.array(content_image)\n",
        "#     print(type(frame), frame.shape)\n",
        "    content_image = load_content_img(frame)\n",
        "    preprocessed_content_image = preprocess_image(content_image, 384)\n",
        "    style_bottleneck_content = run_style_predict(\n",
        "    preprocess_image(content_image, 256)\n",
        "    )\n",
        "    style_bottleneck_blended = content_blending_ratio * style_bottleneck_content + (1 - content_blending_ratio) * style_bottleneck\n",
        "    stylized_image = run_style_transform(style_bottleneck_blended, preprocessed_content_image)\n",
        "    \n",
        "    \n",
        "    \n",
        "    stylized_image = stylized_image[0]\n",
        "    print(stylized_image.shape, type(stylized_image))\n",
        "    stylized_image = cv2.cvtColor(stylized_image, cv2.COLOR_BGR2RGB)\n",
        "    imshow(stylized_image, 'Stylized Image')\n",
        "    \n",
        "    convertedImage = stylized_image*255\n",
        "    convertedImage = np.asarray(convertedImage, dtype=np.uint8)\n",
        "    writer.write(convertedImage)\n",
        "    \n",
        "    cv2.imshow('frame',stylized_image)\n",
        "\n",
        "    if cv2.waitKey(1) & 0xFF == ord(\"q\"):\n",
        "        break"
      ],
      "metadata": {
        "id": "IgJ4_wv6vwnv"
      },
      "execution_count": null,
      "outputs": []
    },
    {
      "cell_type": "code",
      "source": [
        "cap.release()\n",
        "writer.release()\n",
        "cv2.destroyAllWindows()"
      ],
      "metadata": {
        "id": "167gCoM2vz2a"
      },
      "execution_count": null,
      "outputs": []
    }
  ]
}